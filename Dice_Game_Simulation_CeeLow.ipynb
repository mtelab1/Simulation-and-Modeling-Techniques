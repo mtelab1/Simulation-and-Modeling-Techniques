{
 "cells": [
  {
   "cell_type": "code",
   "execution_count": 251,
   "id": "1211b74d",
   "metadata": {},
   "outputs": [],
   "source": [
    "import random\n",
    "import matplotlib.pyplot as plt\n",
    "#C-Low"
   ]
  },
  {
   "cell_type": "code",
   "execution_count": 252,
   "id": "921289a7",
   "metadata": {},
   "outputs": [],
   "source": [
    "def dice_roll_list(n):\n",
    "    roll_list = []\n",
    "    for i in range(n):\n",
    "        roll_list.append(random.randint(1,6))\n",
    "    roll_list.sort()\n",
    "    return roll_list"
   ]
  },
  {
   "cell_type": "code",
   "execution_count": 253,
   "id": "6ff92982",
   "metadata": {},
   "outputs": [],
   "source": [
    "def get_roll_score():\n",
    "    roll_list = dice_roll_list(3)\n",
    "    #print(roll_list)\n",
    "    roll_set = set(roll_list)\n",
    "    if len(roll_set) == 3: #No duplicates, check for winner/loser/re-roll\n",
    "        if roll_set == {1,2,3}:#loser\n",
    "            score = 0\n",
    "        elif roll_set == {4,5,6}: #max score\n",
    "            score = 20\n",
    "        else:\n",
    "            return get_roll_score()\n",
    "\n",
    "    elif len(roll_set) == 2: #Rolled Double\n",
    "        if roll_list.count(roll_list[0]) == 2:\n",
    "            score = roll_list[-1]\n",
    "        else:\n",
    "            score = roll_list[0]\n",
    "\n",
    "    else: #Rolled Triple\n",
    "        score = 10 + roll_list[0]\n",
    "    return score"
   ]
  },
  {
   "cell_type": "code",
   "execution_count": 254,
   "id": "c4535ea0",
   "metadata": {},
   "outputs": [],
   "source": [
    "def play_round(pot, list_of_player_names):\n",
    "    round_score_dict = {}\n",
    "    max_score = 0\n",
    "    for name in list_of_player_names:\n",
    "        round_score_dict[name] = get_roll_score()\n",
    "    #print(round_score_dict)\n",
    "    winner = [key for key, value in round_score_dict.items() if value == max(round_score_dict.values())]\n",
    "    if len(winner)>1:\n",
    "        pot += 1\n",
    "        return play_round(pot = pot, list_of_player_names = winner)\n",
    "    return winner[0],pot\n",
    "        "
   ]
  },
  {
   "cell_type": "code",
   "execution_count": 255,
   "id": "d59d4c09",
   "metadata": {},
   "outputs": [],
   "source": [
    "players = ['Me','the_mark','Professor_Lawrence']\n",
    "def play_session(rounds, pot, players):\n",
    "    players_cash = {}\n",
    "    for player in players:\n",
    "        players_cash[player] = 0\n",
    "\n",
    "    for i in range(rounds):\n",
    "        winner,pot = play_round(1, players)\n",
    "        winnings = len(players)*pot - pot\n",
    "        for player in players:\n",
    "            if player == winner:\n",
    "                players_cash[player] += winnings\n",
    "            else:\n",
    "                players_cash[player] -= pot\n",
    "    #print(players_cash)\n",
    "    return players_cash\n",
    "    "
   ]
  },
  {
   "cell_type": "code",
   "execution_count": 256,
   "id": "04397cc7",
   "metadata": {},
   "outputs": [
    {
     "data": {
      "text/plain": [
       "(array([ 23.,  78., 207., 193., 231., 140.,  88.,  28.,   9.,   3.]),\n",
       " array([-14. , -10.5,  -7. ,  -3.5,   0. ,   3.5,   7. ,  10.5,  14. ,\n",
       "         17.5,  21. ]),\n",
       " <BarContainer object of 10 artists>)"
      ]
     },
     "execution_count": 256,
     "metadata": {},
     "output_type": "execute_result"
    },
    {
     "data": {
      "image/png": "[encoded data removed]",
      "text/plain": [
       "<Figure size 432x288 with 1 Axes>"
      ]
     },
     "metadata": {
      "needs_background": "light"
     },
     "output_type": "display_data"
    }
   ],
   "source": [
    "end_of_session_cash = []\n",
    "for i in range(1000):\n",
    "    end_of_session_cash.append(play_session(10, 5, players)['Me'])\n",
    "plt.hist(end_of_session_cash)"
   ]
  },
  {
   "cell_type": "code",
   "execution_count": 257,
   "id": "436480f2",
   "metadata": {},
   "outputs": [
    {
     "data": {
      "text/plain": [
       "(array([  9.,  29.,  91., 179., 233., 212., 142.,  60.,  35.,  10.]),\n",
       " array([-52. , -41.5, -31. , -20.5, -10. ,   0.5,  11. ,  21.5,  32. ,\n",
       "         42.5,  53. ]),\n",
       " <BarContainer object of 10 artists>)"
      ]
     },
     "execution_count": 257,
     "metadata": {},
     "output_type": "execute_result"
    },
    {
     "data": {
      "image/png": "[encoded data removed]",
      "text/plain": [
       "<Figure size 432x288 with 1 Axes>"
      ]
     },
     "metadata": {
      "needs_background": "light"
     },
     "output_type": "display_data"
    }
   ],
   "source": [
    "end_of_session_cash = []\n",
    "for i in range(1000):\n",
    "    end_of_session_cash.append(play_session(100, 5, players)['Me'])\n",
    "plt.hist(end_of_session_cash)"
   ]
  },
  {
   "cell_type": "code",
   "execution_count": 258,
   "id": "f639991c",
   "metadata": {},
   "outputs": [
    {
     "data": {
      "text/plain": [
       "(array([  1.,   2.,  14.,  94., 180., 288., 236., 127.,  45.,  13.]),\n",
       " array([-223. , -184.4, -145.8, -107.2,  -68.6,  -30. ,    8.6,   47.2,\n",
       "          85.8,  124.4,  163. ]),\n",
       " <BarContainer object of 10 artists>)"
      ]
     },
     "execution_count": 258,
     "metadata": {},
     "output_type": "execute_result"
    },
    {
     "data": {
      "image/png": "[encoded data removed]",
      "text/plain": [
       "<Figure size 432x288 with 1 Axes>"
      ]
     },
     "metadata": {
      "needs_background": "light"
     },
     "output_type": "display_data"
    }
   ],
   "source": [
    "end_of_session_cash = []\n",
    "for i in range(1000):\n",
    "    end_of_session_cash.append(play_session(1000, 5, players)['Me'])\n",
    "plt.hist(end_of_session_cash)"
   ]
  }
 ],
 "metadata": {
  "kernelspec": {
   "display_name": "Python 3",
   "language": "python",
   "name": "python3"
  },
  "language_info": {
   "codemirror_mode": {
    "name": "ipython",
    "version": 3
   },
   "file_extension": ".py",
   "mimetype": "text/x-python",
   "name": "python",
   "nbconvert_exporter": "python",
   "pygments_lexer": "ipython3",
   "version": "3.8.12"
  }
 },
 "nbformat": 4,
 "nbformat_minor": 5
}
