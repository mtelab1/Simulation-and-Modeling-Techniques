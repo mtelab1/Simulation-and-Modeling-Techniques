{
 "cells": [
  {
   "cell_type": "markdown",
   "id": "e3ebd17b",
   "metadata": {},
   "source": [
    "Below is a simulation of the popular school yard gambling game of CeeLow.  The game has a few rule variations, but the rule set chosen here goes as follows:\n",
    "    \n",
    "    1. All parties submit a fee to the pot.\n",
    "    2. Each party takes a turn which consists of rolling three dice at once.  The hierarchy of rolls are as such.  Failure to result in one of these combinations prompts a re-roll.\n",
    "            a. [4,5,6]\n",
    "            b. triples\n",
    "            c. doubles(rank determined by lone die)\n",
    "            d. [1,2,3]\n",
    "    3.  Highest score after all parties take a turn takes the whole pot.\n",
    "    4.  Ties results in all parties submitting an additional fee before tie breaker round."
   ]
  },
  {
   "cell_type": "code",
   "execution_count": 7,
   "id": "1211b74d",
   "metadata": {},
   "outputs": [],
   "source": [
    "import random\n",
    "import matplotlib.pyplot as plt"
   ]
  },
  {
   "cell_type": "code",
   "execution_count": 8,
   "id": "921289a7",
   "metadata": {},
   "outputs": [],
   "source": [
    "def dice_roll_list(n):\n",
    "    roll_list = []\n",
    "    for i in range(n):\n",
    "        roll_list.append(random.randint(1,6))\n",
    "    roll_list.sort() #sort dice to push lone die occurences to first or last position\n",
    "    return roll_list"
   ]
  },
  {
   "cell_type": "code",
   "execution_count": 9,
   "id": "6ff92982",
   "metadata": {},
   "outputs": [],
   "source": [
    "def get_roll_score():\n",
    "    roll_list = dice_roll_list(3)\n",
    "    roll_set = set(roll_list) #Unique dice values to filter combinations\n",
    "    if len(roll_set) == 3: #No duplicates, check for winner/loser/re-roll\n",
    "        if roll_set == {1,2,3}:#loser\n",
    "            score = 0\n",
    "        elif roll_set == {4,5,6}: #max score\n",
    "            score = 20\n",
    "        else:\n",
    "            return get_roll_score() #not a valid combination; prompt re-roll\n",
    "\n",
    "    elif len(roll_set) == 2: #Rolled Double\n",
    "        if roll_list.count(roll_list[0]) == 2:\n",
    "            score = roll_list[-1]\n",
    "        else:\n",
    "            score = roll_list[0]\n",
    "\n",
    "    else: #Rolled Triple\n",
    "        score = 10 + roll_list[0]\n",
    "    return score"
   ]
  },
  {
   "cell_type": "code",
   "execution_count": 10,
   "id": "c4535ea0",
   "metadata": {},
   "outputs": [],
   "source": [
    "def play_round(pot, list_of_player_names):\n",
    "    round_score_dict = {} #how scores for round\n",
    "    for name in list_of_player_names: #everyone takes their turn\n",
    "        round_score_dict[name] = get_roll_score()\n",
    "        \n",
    "    winner = [key for key, value in round_score_dict.items() if value == max(round_score_dict.values())] #find winner/winners\n",
    "    if len(winner)>1: #look for a tie\n",
    "        pot += 1\n",
    "        return play_round(pot = pot, list_of_player_names = winner) #tie breaker recurser\n",
    "    return winner[0],pot\n",
    "        "
   ]
  },
  {
   "cell_type": "code",
   "execution_count": 11,
   "id": "d59d4c09",
   "metadata": {},
   "outputs": [],
   "source": [
    "players = ['Me','the_mark','Professor_Lawrence']\n",
    "\n",
    "def play_session(rounds, pot, players):\n",
    "    '''\n",
    "    Bundles up multple rounds of CeeLow to simulate a session.\n",
    "    '''\n",
    "    players_cash = {} \n",
    "    for player in players:\n",
    "        players_cash[player] = 0 #start everyone at 0 to measure gain/loss\n",
    "\n",
    "    for i in range(rounds): \n",
    "        winner,pot = play_round(pot, players)\n",
    "        winnings = len(players)*pot - pot \n",
    "        for player in players:\n",
    "            if player == winner:\n",
    "                players_cash[player] += winnings #pay the winner\n",
    "            else:\n",
    "                players_cash[player] -= pot #tax the losers\n",
    "    return players_cash\n",
    "    "
   ]
  },
  {
   "cell_type": "code",
   "execution_count": 12,
   "id": "04397cc7",
   "metadata": {},
   "outputs": [
    {
     "data": {
      "text/plain": [
       "(array([ 16.,  46., 160., 205., 272., 143.,  90.,  43.,  20.,   5.]),\n",
       " array([-75. , -57.5, -40. , -22.5,  -5. ,  12.5,  30. ,  47.5,  65. ,\n",
       "         82.5, 100. ]),\n",
       " <BarContainer object of 10 artists>)"
      ]
     },
     "execution_count": 12,
     "metadata": {},
     "output_type": "execute_result"
    },
    {
     "data": {
      "image/png": "[encoded data removed]",
      "text/plain": [
       "<Figure size 432x288 with 1 Axes>"
      ]
     },
     "metadata": {
      "needs_background": "light"
     },
     "output_type": "display_data"
    }
   ],
   "source": [
    "end_of_session_cash = []\n",
    "for i in range(1000):\n",
    "    end_of_session_cash.append(play_session(10, 5, players)['Me'])\n",
    "plt.hist(end_of_session_cash)"
   ]
  },
  {
   "cell_type": "code",
   "execution_count": 13,
   "id": "436480f2",
   "metadata": {},
   "outputs": [
    {
     "data": {
      "text/plain": [
       "(array([  8.,  58., 160., 323., 286., 125.,  29.,  10.,   0.,   1.]),\n",
       " array([-715., -532., -349., -166.,   17.,  200.,  383.,  566.,  749.,\n",
       "         932., 1115.]),\n",
       " <BarContainer object of 10 artists>)"
      ]
     },
     "execution_count": 13,
     "metadata": {},
     "output_type": "execute_result"
    },
    {
     "data": {
      "image/png": "[encoded data removed]",
      "text/plain": [
       "<Figure size 432x288 with 1 Axes>"
      ]
     },
     "metadata": {
      "needs_background": "light"
     },
     "output_type": "display_data"
    }
   ],
   "source": [
    "end_of_session_cash = []\n",
    "for i in range(1000):\n",
    "    end_of_session_cash.append(play_session(100, 5, players)['Me'])\n",
    "plt.hist(end_of_session_cash)"
   ]
  },
  {
   "cell_type": "code",
   "execution_count": 14,
   "id": "f639991c",
   "metadata": {},
   "outputs": [
    {
     "data": {
      "text/plain": [
       "(array([  9.,  42.,  99., 187., 263., 216., 126.,  41.,  15.,   2.]),\n",
       " array([-15722. , -12320.4,  -8918.8,  -5517.2,  -2115.6,   1286. ,\n",
       "          4687.6,   8089.2,  11490.8,  14892.4,  18294. ]),\n",
       " <BarContainer object of 10 artists>)"
      ]
     },
     "execution_count": 14,
     "metadata": {},
     "output_type": "execute_result"
    },
    {
     "data": {
      "image/png": "[encoded data removed]",
      "text/plain": [
       "<Figure size 432x288 with 1 Axes>"
      ]
     },
     "metadata": {
      "needs_background": "light"
     },
     "output_type": "display_data"
    }
   ],
   "source": [
    "end_of_session_cash = []\n",
    "for i in range(1000):\n",
    "    end_of_session_cash.append(play_session(1000, 5, players)['Me'])\n",
    "plt.hist(end_of_session_cash)"
   ]
  }
 ],
 "metadata": {
  "kernelspec": {
   "display_name": "Python 3",
   "language": "python",
   "name": "python3"
  },
  "language_info": {
   "codemirror_mode": {
    "name": "ipython",
    "version": 3
   },
   "file_extension": ".py",
   "mimetype": "text/x-python",
   "name": "python",
   "nbconvert_exporter": "python",
   "pygments_lexer": "ipython3",
   "version": "3.8.12"
  }
 },
 "nbformat": 4,
 "nbformat_minor": 5
}
